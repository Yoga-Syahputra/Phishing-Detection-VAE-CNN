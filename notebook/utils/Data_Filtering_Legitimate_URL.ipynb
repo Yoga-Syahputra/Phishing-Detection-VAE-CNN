{
  "cells": [
    {
      "cell_type": "markdown",
      "metadata": {
        "id": "Qe72MQXcxTTl"
      },
      "source": [
        "**Mount to Google Drive**"
      ]
    },
    {
      "cell_type": "code",
      "execution_count": null,
      "metadata": {
        "colab": {
          "base_uri": "https://localhost:8080/"
        },
        "id": "oLDpUpMYxNvN",
        "outputId": "4b84a04c-cfa3-4247-a826-d3d5dec0a866"
      },
      "outputs": [
        {
          "name": "stdout",
          "output_type": "stream",
          "text": [
            "Drive already mounted at /content/drive; to attempt to forcibly remount, call drive.mount(\"/content/drive\", force_remount=True).\n"
          ]
        }
      ],
      "source": [
        "from google.colab import drive\n",
        "drive.mount('/content/drive')"
      ]
    },
    {
      "cell_type": "markdown",
      "metadata": {
        "id": "F2umRbirxbRl"
      },
      "source": [
        "**Import Necessary Libraries**"
      ]
    },
    {
      "cell_type": "code",
      "execution_count": null,
      "metadata": {
        "id": "9z1RXEYzxfnd"
      },
      "outputs": [],
      "source": [
        "import pandas as pd"
      ]
    },
    {
      "cell_type": "markdown",
      "metadata": {
        "id": "wUNQ9KxozsfN"
      },
      "source": [
        "1. Load the CSV file"
      ]
    },
    {
      "cell_type": "code",
      "execution_count": null,
      "metadata": {
        "id": "uLzSziLuzqs4"
      },
      "outputs": [],
      "source": [
        "df = pd.read_csv('/content/drive/MyDrive/Thesis - Undergraduate Ch./Dataset/Legitimate/Raw/PhishDataset - Imbalanced.csv')"
      ]
    },
    {
      "cell_type": "markdown",
      "metadata": {
        "id": "KAjtU8De1AHe"
      },
      "source": [
        "2. Inspect the DataFrame to confirm column names"
      ]
    },
    {
      "cell_type": "code",
      "execution_count": null,
      "metadata": {
        "colab": {
          "base_uri": "https://localhost:8080/"
        },
        "id": "0A0ONR1n1GP1",
        "outputId": "32d1e702-2e98-4a27-f06e-c016a618d7cd"
      },
      "outputs": [
        {
          "name": "stdout",
          "output_type": "stream",
          "text": [
            "Columns available ['Labels', 'URLs']\n",
            "   Labels                                               URLs\n",
            "0       1   https://www.ujhyjhujhyjhyuj.ga/CC_POSTALE/f2a83/\n",
            "1       1  https://stitch-statichosting-prod.s3.amazonaws...\n",
            "2       0            https://www.reservoirgroup.com/careers/\n",
            "3       0  https://www.camosy.com/themes/juicy/images/doo...\n",
            "4       0                       https://www.liveapps.com.au/\n"
          ]
        }
      ],
      "source": [
        "print(\"Columns available\", df.columns.tolist())\n",
        "print(df.head())"
      ]
    },
    {
      "cell_type": "markdown",
      "metadata": {
        "id": "lapfXPM_2_0W"
      },
      "source": [
        "3. Filter the data with label 0 (legitimate)"
      ]
    },
    {
      "cell_type": "code",
      "execution_count": null,
      "metadata": {
        "id": "j_qHFSLS3FDF"
      },
      "outputs": [],
      "source": [
        "filtered_df = df[df['Labels'] == 0]"
      ]
    },
    {
      "cell_type": "markdown",
      "metadata": {
        "id": "XtpYrobI3Z-F"
      },
      "source": [
        "4. Retrieve the URLs column only"
      ]
    },
    {
      "cell_type": "code",
      "execution_count": null,
      "metadata": {
        "id": "1FXlECFT3f0l"
      },
      "outputs": [],
      "source": [
        "# Filter only the URLs with normal patterns\n",
        "filtered_df = filtered_df[filtered_df['URLs'].str.contains(r'^https?://')]\n",
        "\n",
        "# Clean unwanted characters\n",
        "filtered_df['URLs'] = filtered_df['URLs'].str.replace(r'[^a-zA-Z0-9/:.?&=%#_\\-]', '', regex=True)\n",
        "\n",
        "url_only_df = filtered_df[['URLs']].head(10000)  # Adjust the number of URLs based on the research purpose\n",
        "url_only_df = url_only_df.rename(columns={'URLs': 'Legitimate_URL'})"
      ]
    },
    {
      "cell_type": "markdown",
      "metadata": {
        "id": "Jrb5xvVA3kN9"
      },
      "source": [
        "5. Save the filtered data"
      ]
    },
    {
      "cell_type": "code",
      "execution_count": null,
      "metadata": {
        "colab": {
          "base_uri": "https://localhost:8080/"
        },
        "id": "P7spdwF13oYF",
        "outputId": "b1ed5677-f22b-4e27-9a37-6875542e3ac7"
      },
      "outputs": [
        {
          "name": "stdout",
          "output_type": "stream",
          "text": [
            "Filtered CSV file has been created.\n"
          ]
        }
      ],
      "source": [
        "url_only_df.to_csv('/content/drive/MyDrive/Thesis - Undergraduate Ch./Dataset/Legitimate/Filtered/filtered_legitimate_url_10000_again.csv', index=False)\n",
        "\n",
        "print(\"Filtered CSV file has been created.\")"
      ]
    },
    {
      "cell_type": "markdown",
      "metadata": {
        "id": "S7lGTzz6jPEQ"
      },
      "source": [
        "7. [Additional] Concatenate the filtered data from different dataset"
      ]
    },
    {
      "cell_type": "code",
      "execution_count": null,
      "metadata": {
        "colab": {
          "base_uri": "https://localhost:8080/"
        },
        "id": "EhBMwICHhLvd",
        "outputId": "d13bf668-b931-4924-a2ba-9beba3ec9ed0"
      },
      "outputs": [
        {
          "name": "stdout",
          "output_type": "stream",
          "text": [
            "✅ All ordered samples saved! Legitimate URLs first, then Phishing.\n"
          ]
        }
      ],
      "source": [
        "import pandas as pd\n",
        "import random\n",
        "import numpy as np\n",
        "\n",
        "# Load dataset\n",
        "imbalanced_df = pd.read_csv('/content/drive/MyDrive/Thesis - Undergraduate Ch./Dataset/Legitimate/Raw/PhishDataset - Imbalanced.csv')\n",
        "imbalanced_df = imbalanced_df.drop_duplicates()\n",
        "\n",
        "# Rename the column if necessary\n",
        "if 'URLs' in imbalanced_df.columns:\n",
        "    imbalanced_df = imbalanced_df.rename(columns={'URLs': 'URL'})\n",
        "\n",
        "# Filter based on the 'Labels' column\n",
        "df_0 = imbalanced_df[imbalanced_df['Labels'] == 0]  # Legitimate\n",
        "df_1 = imbalanced_df[imbalanced_df['Labels'] == 1]  # Phishing\n",
        "\n",
        "# Make 10 runs of sampling\n",
        "for i in range(1, 11):\n",
        "    df_0_sample = df_0.sample(n=50)\n",
        "    df_1_sample = df_1.sample(n=50)\n",
        "\n",
        "    # Concantenate without randomization\n",
        "    df_sample = pd.concat([df_0_sample, df_1_sample]).reset_index(drop=True)\n",
        "\n",
        "    # Save the labeled and unlabeled samples\n",
        "    df_sample.to_csv(f'sampled_urls_run{i}.csv', index=False)\n",
        "    df_sample[['URL']].to_csv(f'sampled_urls_run{i}_nolabel.csv', index=False)\n",
        "\n",
        "print(\"✅ All ordered samples saved! Legitimate URLs first, then Phishing.\")"
      ]
    }
  ],
  "metadata": {
    "colab": {
      "provenance": []
    },
    "kernelspec": {
      "display_name": "Python 3",
      "name": "python3"
    },
    "language_info": {
      "name": "python"
    }
  },
  "nbformat": 4,
  "nbformat_minor": 0
}
